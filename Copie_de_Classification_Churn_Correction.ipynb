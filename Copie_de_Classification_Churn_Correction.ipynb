{
  "cells": [
    {
      "cell_type": "markdown",
      "metadata": {
        "id": "view-in-github",
        "colab_type": "text"
      },
      "source": [
        "<a href=\"https://colab.research.google.com/github/RMoulla/Acculturation_IA/blob/main/Copie_de_Classification_Churn_Correction.ipynb\" target=\"_parent\"><img src=\"https://colab.research.google.com/assets/colab-badge.svg\" alt=\"Open In Colab\"/></a>"
      ]
    },
    {
      "cell_type": "markdown",
      "metadata": {
        "id": "SOnUzhscj7Sw"
      },
      "source": [
        "# Explication et prédiction du churn avec le machine learning\n",
        "\n",
        "Ce TP vise à explorer et comparer différentes techniques de classification en machine learning pour expliquer et prédire le churn des clients. Le churn, ou l'attrition, est un indicateur clé pour de nombreuses entreprises ; il reflète le pourcentage de clients qui cessent d'utiliser un service sur une période donnée. Comprendre et prédire efficacement le churn peut aider les entreprises à mettre en œuvre des stratégies de rétention ciblées et à améliorer la satisfaction client.\n",
        "\n",
        "## Le Dataset\n",
        "\n",
        "Le dataset utilisé dans ce tutoriel contient des données sur les clients d'une entreprise, avec plusieurs caractéristiques qui pourraient influencer leur décision de rester ou de partir.\n",
        "\n",
        "Ci-dessous un aperçu des variables incluses dans le dataset :\n",
        "\n",
        "**Names** : Nom du client.\n",
        "\n",
        "**Age** : Âge du client.\n",
        "\n",
        "**Total_Purchase** : Montant total des achats effectués par le client.\n",
        "\n",
        "**Account_Manager** : Indique si un gestionnaire de compte est assigné au client (1) ou non (0).\n",
        "\n",
        "**Years** : Nombre d'années pendant lesquelles le client est avec l'entreprise.\n",
        "\n",
        "**Num_Sites** : Nombre de sites utilisés par le client.\n",
        "\n",
        "Onboard_date: Date à laquelle le client a été acquis.\n",
        "\n",
        "**Location** : Emplacement du client.\n",
        "\n",
        "**Company** : Nom de l'entreprise du client.\n",
        "\n",
        "**Churn** : Indique si le client a churné (1) ou non (0).\n",
        "\n",
        "## Objectifs Spécifiques du TP\n",
        "\n",
        "**Exploration de Données** : Comprendre la distribution des données, la corrélation entre les variables et le taux de churn.\n",
        "\n",
        "**Prétraitement des Données** : Nettoyer et préparer les données pour la modélisation, y compris le traitement des variables catégorielles et la division des données en ensembles d'entraînement et de test.\n",
        "\n",
        "**Modélisation** : Appliquer plusieurs modèles de classification, tels que la régression logistique, Random Forest et les SVM pour prédire le churn.\n",
        "\n",
        "**Évaluation des Modèles** : Comparer les performances des modèles en utilisant des métriques telles que la précision, le rappel, l'accuracy, et l'AUC-ROC.\n",
        "\n",
        "**Optimisation** : Effectuer une optimisation des hyperparamètres sur les modèles sélectionnés pour améliorer leurs performances.\n",
        "\n",
        "**Interprétation** : Analyser les résultats pour identifier les facteurs clés influençant le churn et discuter des implications pour les stratégies de rétention des clients."
      ]
    },
    {
      "cell_type": "code",
      "execution_count": null,
      "metadata": {
        "colab": {
          "base_uri": "https://localhost:8080/",
          "height": 206
        },
        "id": "cXFERNwBj06V",
        "outputId": "741df821-39f9-4b5d-b942-de498d97465b"
      },
      "outputs": [
        {
          "output_type": "execute_result",
          "data": {
            "text/plain": [
              "              Names   Age  Total_Purchase  Account_Manager  Years  Num_Sites  \\\n",
              "0  Cameron Williams  42.0        11066.80                0   7.22        8.0   \n",
              "1     Kevin Mueller  41.0        11916.22                0   6.50       11.0   \n",
              "2       Eric Lozano  38.0        12884.75                0   6.67       12.0   \n",
              "3     Phillip White  42.0         8010.76                0   6.71       10.0   \n",
              "4    Cynthia Norton  37.0         9191.58                0   5.56        9.0   \n",
              "\n",
              "          Onboard_date                                           Location  \\\n",
              "0  2013-08-30 07:00:40      10265 Elizabeth Mission Barkerburgh, AK 89518   \n",
              "1  2013-08-13 00:38:46  6157 Frank Gardens Suite 019 Carloshaven, RI 1...   \n",
              "2  2016-06-29 06:20:07             1331 Keith Court Alyssahaven, DE 90114   \n",
              "3  2014-04-22 12:43:12       13120 Daniel Mount Angelabury, WY 30645-4695   \n",
              "4  2016-01-19 15:31:15                765 Tricia Row Karenshire, MH 71730   \n",
              "\n",
              "                       Company  Churn  \n",
              "0                   Harvey LLC      1  \n",
              "1                   Wilson PLC      1  \n",
              "2  Miller, Johnson and Wallace      1  \n",
              "3                    Smith Inc      1  \n",
              "4                   Love-Jones      1  "
            ],
            "text/html": [
              "\n",
              "  <div id=\"df-fb27da1f-6364-4988-a2ff-12d63fcd7335\" class=\"colab-df-container\">\n",
              "    <div>\n",
              "<style scoped>\n",
              "    .dataframe tbody tr th:only-of-type {\n",
              "        vertical-align: middle;\n",
              "    }\n",
              "\n",
              "    .dataframe tbody tr th {\n",
              "        vertical-align: top;\n",
              "    }\n",
              "\n",
              "    .dataframe thead th {\n",
              "        text-align: right;\n",
              "    }\n",
              "</style>\n",
              "<table border=\"1\" class=\"dataframe\">\n",
              "  <thead>\n",
              "    <tr style=\"text-align: right;\">\n",
              "      <th></th>\n",
              "      <th>Names</th>\n",
              "      <th>Age</th>\n",
              "      <th>Total_Purchase</th>\n",
              "      <th>Account_Manager</th>\n",
              "      <th>Years</th>\n",
              "      <th>Num_Sites</th>\n",
              "      <th>Onboard_date</th>\n",
              "      <th>Location</th>\n",
              "      <th>Company</th>\n",
              "      <th>Churn</th>\n",
              "    </tr>\n",
              "  </thead>\n",
              "  <tbody>\n",
              "    <tr>\n",
              "      <th>0</th>\n",
              "      <td>Cameron Williams</td>\n",
              "      <td>42.0</td>\n",
              "      <td>11066.80</td>\n",
              "      <td>0</td>\n",
              "      <td>7.22</td>\n",
              "      <td>8.0</td>\n",
              "      <td>2013-08-30 07:00:40</td>\n",
              "      <td>10265 Elizabeth Mission Barkerburgh, AK 89518</td>\n",
              "      <td>Harvey LLC</td>\n",
              "      <td>1</td>\n",
              "    </tr>\n",
              "    <tr>\n",
              "      <th>1</th>\n",
              "      <td>Kevin Mueller</td>\n",
              "      <td>41.0</td>\n",
              "      <td>11916.22</td>\n",
              "      <td>0</td>\n",
              "      <td>6.50</td>\n",
              "      <td>11.0</td>\n",
              "      <td>2013-08-13 00:38:46</td>\n",
              "      <td>6157 Frank Gardens Suite 019 Carloshaven, RI 1...</td>\n",
              "      <td>Wilson PLC</td>\n",
              "      <td>1</td>\n",
              "    </tr>\n",
              "    <tr>\n",
              "      <th>2</th>\n",
              "      <td>Eric Lozano</td>\n",
              "      <td>38.0</td>\n",
              "      <td>12884.75</td>\n",
              "      <td>0</td>\n",
              "      <td>6.67</td>\n",
              "      <td>12.0</td>\n",
              "      <td>2016-06-29 06:20:07</td>\n",
              "      <td>1331 Keith Court Alyssahaven, DE 90114</td>\n",
              "      <td>Miller, Johnson and Wallace</td>\n",
              "      <td>1</td>\n",
              "    </tr>\n",
              "    <tr>\n",
              "      <th>3</th>\n",
              "      <td>Phillip White</td>\n",
              "      <td>42.0</td>\n",
              "      <td>8010.76</td>\n",
              "      <td>0</td>\n",
              "      <td>6.71</td>\n",
              "      <td>10.0</td>\n",
              "      <td>2014-04-22 12:43:12</td>\n",
              "      <td>13120 Daniel Mount Angelabury, WY 30645-4695</td>\n",
              "      <td>Smith Inc</td>\n",
              "      <td>1</td>\n",
              "    </tr>\n",
              "    <tr>\n",
              "      <th>4</th>\n",
              "      <td>Cynthia Norton</td>\n",
              "      <td>37.0</td>\n",
              "      <td>9191.58</td>\n",
              "      <td>0</td>\n",
              "      <td>5.56</td>\n",
              "      <td>9.0</td>\n",
              "      <td>2016-01-19 15:31:15</td>\n",
              "      <td>765 Tricia Row Karenshire, MH 71730</td>\n",
              "      <td>Love-Jones</td>\n",
              "      <td>1</td>\n",
              "    </tr>\n",
              "  </tbody>\n",
              "</table>\n",
              "</div>\n",
              "    <div class=\"colab-df-buttons\">\n",
              "\n",
              "  <div class=\"colab-df-container\">\n",
              "    <button class=\"colab-df-convert\" onclick=\"convertToInteractive('df-fb27da1f-6364-4988-a2ff-12d63fcd7335')\"\n",
              "            title=\"Convert this dataframe to an interactive table.\"\n",
              "            style=\"display:none;\">\n",
              "\n",
              "  <svg xmlns=\"http://www.w3.org/2000/svg\" height=\"24px\" viewBox=\"0 -960 960 960\">\n",
              "    <path d=\"M120-120v-720h720v720H120Zm60-500h600v-160H180v160Zm220 220h160v-160H400v160Zm0 220h160v-160H400v160ZM180-400h160v-160H180v160Zm440 0h160v-160H620v160ZM180-180h160v-160H180v160Zm440 0h160v-160H620v160Z\"/>\n",
              "  </svg>\n",
              "    </button>\n",
              "\n",
              "  <style>\n",
              "    .colab-df-container {\n",
              "      display:flex;\n",
              "      gap: 12px;\n",
              "    }\n",
              "\n",
              "    .colab-df-convert {\n",
              "      background-color: #E8F0FE;\n",
              "      border: none;\n",
              "      border-radius: 50%;\n",
              "      cursor: pointer;\n",
              "      display: none;\n",
              "      fill: #1967D2;\n",
              "      height: 32px;\n",
              "      padding: 0 0 0 0;\n",
              "      width: 32px;\n",
              "    }\n",
              "\n",
              "    .colab-df-convert:hover {\n",
              "      background-color: #E2EBFA;\n",
              "      box-shadow: 0px 1px 2px rgba(60, 64, 67, 0.3), 0px 1px 3px 1px rgba(60, 64, 67, 0.15);\n",
              "      fill: #174EA6;\n",
              "    }\n",
              "\n",
              "    .colab-df-buttons div {\n",
              "      margin-bottom: 4px;\n",
              "    }\n",
              "\n",
              "    [theme=dark] .colab-df-convert {\n",
              "      background-color: #3B4455;\n",
              "      fill: #D2E3FC;\n",
              "    }\n",
              "\n",
              "    [theme=dark] .colab-df-convert:hover {\n",
              "      background-color: #434B5C;\n",
              "      box-shadow: 0px 1px 3px 1px rgba(0, 0, 0, 0.15);\n",
              "      filter: drop-shadow(0px 1px 2px rgba(0, 0, 0, 0.3));\n",
              "      fill: #FFFFFF;\n",
              "    }\n",
              "  </style>\n",
              "\n",
              "    <script>\n",
              "      const buttonEl =\n",
              "        document.querySelector('#df-fb27da1f-6364-4988-a2ff-12d63fcd7335 button.colab-df-convert');\n",
              "      buttonEl.style.display =\n",
              "        google.colab.kernel.accessAllowed ? 'block' : 'none';\n",
              "\n",
              "      async function convertToInteractive(key) {\n",
              "        const element = document.querySelector('#df-fb27da1f-6364-4988-a2ff-12d63fcd7335');\n",
              "        const dataTable =\n",
              "          await google.colab.kernel.invokeFunction('convertToInteractive',\n",
              "                                                    [key], {});\n",
              "        if (!dataTable) return;\n",
              "\n",
              "        const docLinkHtml = 'Like what you see? Visit the ' +\n",
              "          '<a target=\"_blank\" href=https://colab.research.google.com/notebooks/data_table.ipynb>data table notebook</a>'\n",
              "          + ' to learn more about interactive tables.';\n",
              "        element.innerHTML = '';\n",
              "        dataTable['output_type'] = 'display_data';\n",
              "        await google.colab.output.renderOutput(dataTable, element);\n",
              "        const docLink = document.createElement('div');\n",
              "        docLink.innerHTML = docLinkHtml;\n",
              "        element.appendChild(docLink);\n",
              "      }\n",
              "    </script>\n",
              "  </div>\n",
              "\n",
              "\n",
              "    <div id=\"df-c4eca5db-225b-46d6-9277-23357877d934\">\n",
              "      <button class=\"colab-df-quickchart\" onclick=\"quickchart('df-c4eca5db-225b-46d6-9277-23357877d934')\"\n",
              "                title=\"Suggest charts\"\n",
              "                style=\"display:none;\">\n",
              "\n",
              "<svg xmlns=\"http://www.w3.org/2000/svg\" height=\"24px\"viewBox=\"0 0 24 24\"\n",
              "     width=\"24px\">\n",
              "    <g>\n",
              "        <path d=\"M19 3H5c-1.1 0-2 .9-2 2v14c0 1.1.9 2 2 2h14c1.1 0 2-.9 2-2V5c0-1.1-.9-2-2-2zM9 17H7v-7h2v7zm4 0h-2V7h2v10zm4 0h-2v-4h2v4z\"/>\n",
              "    </g>\n",
              "</svg>\n",
              "      </button>\n",
              "\n",
              "<style>\n",
              "  .colab-df-quickchart {\n",
              "      --bg-color: #E8F0FE;\n",
              "      --fill-color: #1967D2;\n",
              "      --hover-bg-color: #E2EBFA;\n",
              "      --hover-fill-color: #174EA6;\n",
              "      --disabled-fill-color: #AAA;\n",
              "      --disabled-bg-color: #DDD;\n",
              "  }\n",
              "\n",
              "  [theme=dark] .colab-df-quickchart {\n",
              "      --bg-color: #3B4455;\n",
              "      --fill-color: #D2E3FC;\n",
              "      --hover-bg-color: #434B5C;\n",
              "      --hover-fill-color: #FFFFFF;\n",
              "      --disabled-bg-color: #3B4455;\n",
              "      --disabled-fill-color: #666;\n",
              "  }\n",
              "\n",
              "  .colab-df-quickchart {\n",
              "    background-color: var(--bg-color);\n",
              "    border: none;\n",
              "    border-radius: 50%;\n",
              "    cursor: pointer;\n",
              "    display: none;\n",
              "    fill: var(--fill-color);\n",
              "    height: 32px;\n",
              "    padding: 0;\n",
              "    width: 32px;\n",
              "  }\n",
              "\n",
              "  .colab-df-quickchart:hover {\n",
              "    background-color: var(--hover-bg-color);\n",
              "    box-shadow: 0 1px 2px rgba(60, 64, 67, 0.3), 0 1px 3px 1px rgba(60, 64, 67, 0.15);\n",
              "    fill: var(--button-hover-fill-color);\n",
              "  }\n",
              "\n",
              "  .colab-df-quickchart-complete:disabled,\n",
              "  .colab-df-quickchart-complete:disabled:hover {\n",
              "    background-color: var(--disabled-bg-color);\n",
              "    fill: var(--disabled-fill-color);\n",
              "    box-shadow: none;\n",
              "  }\n",
              "\n",
              "  .colab-df-spinner {\n",
              "    border: 2px solid var(--fill-color);\n",
              "    border-color: transparent;\n",
              "    border-bottom-color: var(--fill-color);\n",
              "    animation:\n",
              "      spin 1s steps(1) infinite;\n",
              "  }\n",
              "\n",
              "  @keyframes spin {\n",
              "    0% {\n",
              "      border-color: transparent;\n",
              "      border-bottom-color: var(--fill-color);\n",
              "      border-left-color: var(--fill-color);\n",
              "    }\n",
              "    20% {\n",
              "      border-color: transparent;\n",
              "      border-left-color: var(--fill-color);\n",
              "      border-top-color: var(--fill-color);\n",
              "    }\n",
              "    30% {\n",
              "      border-color: transparent;\n",
              "      border-left-color: var(--fill-color);\n",
              "      border-top-color: var(--fill-color);\n",
              "      border-right-color: var(--fill-color);\n",
              "    }\n",
              "    40% {\n",
              "      border-color: transparent;\n",
              "      border-right-color: var(--fill-color);\n",
              "      border-top-color: var(--fill-color);\n",
              "    }\n",
              "    60% {\n",
              "      border-color: transparent;\n",
              "      border-right-color: var(--fill-color);\n",
              "    }\n",
              "    80% {\n",
              "      border-color: transparent;\n",
              "      border-right-color: var(--fill-color);\n",
              "      border-bottom-color: var(--fill-color);\n",
              "    }\n",
              "    90% {\n",
              "      border-color: transparent;\n",
              "      border-bottom-color: var(--fill-color);\n",
              "    }\n",
              "  }\n",
              "</style>\n",
              "\n",
              "      <script>\n",
              "        async function quickchart(key) {\n",
              "          const quickchartButtonEl =\n",
              "            document.querySelector('#' + key + ' button');\n",
              "          quickchartButtonEl.disabled = true;  // To prevent multiple clicks.\n",
              "          quickchartButtonEl.classList.add('colab-df-spinner');\n",
              "          try {\n",
              "            const charts = await google.colab.kernel.invokeFunction(\n",
              "                'suggestCharts', [key], {});\n",
              "          } catch (error) {\n",
              "            console.error('Error during call to suggestCharts:', error);\n",
              "          }\n",
              "          quickchartButtonEl.classList.remove('colab-df-spinner');\n",
              "          quickchartButtonEl.classList.add('colab-df-quickchart-complete');\n",
              "        }\n",
              "        (() => {\n",
              "          let quickchartButtonEl =\n",
              "            document.querySelector('#df-c4eca5db-225b-46d6-9277-23357877d934 button');\n",
              "          quickchartButtonEl.style.display =\n",
              "            google.colab.kernel.accessAllowed ? 'block' : 'none';\n",
              "        })();\n",
              "      </script>\n",
              "    </div>\n",
              "\n",
              "    </div>\n",
              "  </div>\n"
            ],
            "application/vnd.google.colaboratory.intrinsic+json": {
              "type": "dataframe",
              "variable_name": "dataset",
              "summary": "{\n  \"name\": \"dataset\",\n  \"rows\": 900,\n  \"fields\": [\n    {\n      \"column\": \"Names\",\n      \"properties\": {\n        \"dtype\": \"string\",\n        \"num_unique_values\": 899,\n        \"samples\": [\n          \"Nicole Jacobson\",\n          \"Kenneth Wilkerson\",\n          \"Robin Sanchez\"\n        ],\n        \"semantic_type\": \"\",\n        \"description\": \"\"\n      }\n    },\n    {\n      \"column\": \"Age\",\n      \"properties\": {\n        \"dtype\": \"number\",\n        \"std\": 6.127560416916246,\n        \"min\": 22.0,\n        \"max\": 65.0,\n        \"num_unique_values\": 36,\n        \"samples\": [\n          22.0,\n          56.0,\n          34.0\n        ],\n        \"semantic_type\": \"\",\n        \"description\": \"\"\n      }\n    },\n    {\n      \"column\": \"Total_Purchase\",\n      \"properties\": {\n        \"dtype\": \"number\",\n        \"std\": 2408.6445318580945,\n        \"min\": 100.0,\n        \"max\": 18026.01,\n        \"num_unique_values\": 900,\n        \"samples\": [\n          13365.66,\n          11695.04,\n          9347.89\n        ],\n        \"semantic_type\": \"\",\n        \"description\": \"\"\n      }\n    },\n    {\n      \"column\": \"Account_Manager\",\n      \"properties\": {\n        \"dtype\": \"number\",\n        \"std\": 0,\n        \"min\": 0,\n        \"max\": 1,\n        \"num_unique_values\": 2,\n        \"samples\": [\n          1,\n          0\n        ],\n        \"semantic_type\": \"\",\n        \"description\": \"\"\n      }\n    },\n    {\n      \"column\": \"Years\",\n      \"properties\": {\n        \"dtype\": \"number\",\n        \"std\": 1.2744490131946138,\n        \"min\": 1.0,\n        \"max\": 9.15,\n        \"num_unique_values\": 418,\n        \"samples\": [\n          4.63,\n          4.53\n        ],\n        \"semantic_type\": \"\",\n        \"description\": \"\"\n      }\n    },\n    {\n      \"column\": \"Num_Sites\",\n      \"properties\": {\n        \"dtype\": \"number\",\n        \"std\": 1.7648355920351064,\n        \"min\": 3.0,\n        \"max\": 14.0,\n        \"num_unique_values\": 12,\n        \"samples\": [\n          4.0,\n          5.0\n        ],\n        \"semantic_type\": \"\",\n        \"description\": \"\"\n      }\n    },\n    {\n      \"column\": \"Onboard_date\",\n      \"properties\": {\n        \"dtype\": \"object\",\n        \"num_unique_values\": 900,\n        \"samples\": [\n          \"2008-07-26 03:00:31\",\n          \"2007-10-12 01:48:51\"\n        ],\n        \"semantic_type\": \"\",\n        \"description\": \"\"\n      }\n    },\n    {\n      \"column\": \"Location\",\n      \"properties\": {\n        \"dtype\": \"string\",\n        \"num_unique_values\": 900,\n        \"samples\": [\n          \"455 Garcia Via Suite 177 Lake Jefferyside, MN 81187\",\n          \"126 Mooney Corners Port Anthonyborough, SD 31819\"\n        ],\n        \"semantic_type\": \"\",\n        \"description\": \"\"\n      }\n    },\n    {\n      \"column\": \"Company\",\n      \"properties\": {\n        \"dtype\": \"string\",\n        \"num_unique_values\": 873,\n        \"samples\": [\n          \"Kelly-Greene\",\n          \"Howell-Valdez\"\n        ],\n        \"semantic_type\": \"\",\n        \"description\": \"\"\n      }\n    },\n    {\n      \"column\": \"Churn\",\n      \"properties\": {\n        \"dtype\": \"number\",\n        \"std\": 0,\n        \"min\": 0,\n        \"max\": 1,\n        \"num_unique_values\": 2,\n        \"samples\": [\n          0,\n          1\n        ],\n        \"semantic_type\": \"\",\n        \"description\": \"\"\n      }\n    }\n  ]\n}"
            }
          },
          "metadata": {},
          "execution_count": 18
        }
      ],
      "source": [
        "import pandas as pd\n",
        "\n",
        "dataset = pd.read_csv('customer_churn.csv')\n",
        "dataset.head()"
      ]
    },
    {
      "cell_type": "markdown",
      "metadata": {
        "id": "V8DYUFYIn3ag"
      },
      "source": [
        "## Analyse exploratoire des données\n",
        "\n",
        "Nous allons commencer par une analyse exploratoire des données. Cette phase vise à comprendre les données, leur distribution et les relations entre les variables, notamment entre les variables dépendantes (features) et la variable d'intérêt."
      ]
    },
    {
      "cell_type": "code",
      "execution_count": null,
      "metadata": {
        "colab": {
          "base_uri": "https://localhost:8080/"
        },
        "id": "WRM13JyHoss6",
        "outputId": "8ef54012-5067-406f-b963-bb9de11ad349"
      },
      "outputs": [
        {
          "output_type": "stream",
          "name": "stdout",
          "text": [
            "              Age  Total_Purchase  Account_Manager       Years   Num_Sites  \\\n",
            "count  900.000000      900.000000       900.000000  900.000000  900.000000   \n",
            "mean    41.816667    10062.824033         0.481111    5.273156    8.587778   \n",
            "std      6.127560     2408.644532         0.499921    1.274449    1.764836   \n",
            "min     22.000000      100.000000         0.000000    1.000000    3.000000   \n",
            "25%     38.000000     8497.122500         0.000000    4.450000    7.000000   \n",
            "50%     42.000000    10045.870000         0.000000    5.215000    8.000000   \n",
            "75%     46.000000    11760.105000         1.000000    6.110000   10.000000   \n",
            "max     65.000000    18026.010000         1.000000    9.150000   14.000000   \n",
            "\n",
            "            Churn  \n",
            "count  900.000000  \n",
            "mean     0.166667  \n",
            "std      0.372885  \n",
            "min      0.000000  \n",
            "25%      0.000000  \n",
            "50%      0.000000  \n",
            "75%      0.000000  \n",
            "max      1.000000  \n"
          ]
        }
      ],
      "source": [
        "# Quelques statistiques descriptives\n",
        "print(dataset.describe())"
      ]
    },
    {
      "cell_type": "code",
      "execution_count": null,
      "metadata": {
        "colab": {
          "base_uri": "https://localhost:8080/",
          "height": 472
        },
        "id": "intSLL5Co9QP",
        "outputId": "dd926d5d-2218-4a3d-c40b-47d12d0f15b7"
      },
      "outputs": [
        {
          "output_type": "display_data",
          "data": {
            "text/plain": [
              "<Figure size 640x480 with 1 Axes>"
            ],
            "image/png": "[encoded data removed]"
          },
          "metadata": {}
        }
      ],
      "source": [
        "import seaborn as sns\n",
        "import matplotlib.pyplot as plt\n",
        "\n",
        "# Distribution de la variable Churn\n",
        "sns.countplot(x='Churn', data=dataset)\n",
        "plt.title('Distribution du Churn')\n",
        "plt.show()"
      ]
    },
    {
      "cell_type": "code",
      "execution_count": null,
      "metadata": {
        "colab": {
          "base_uri": "https://localhost:8080/",
          "height": 564
        },
        "id": "xPvH7lRFpW5y",
        "outputId": "388d4490-8344-4172-a4d2-7e2e749346ef"
      },
      "outputs": [
        {
          "output_type": "display_data",
          "data": {
            "text/plain": [
              "<Figure size 800x600 with 1 Axes>"
            ],
            "image/png": "[encoded data removed]"
          },
          "metadata": {}
        }
      ],
      "source": [
        "\n",
        "# Age vs Churn\n",
        "plt.figure(figsize=(8, 6))\n",
        "sns.boxplot(x='Churn', y='Age', data=dataset)\n",
        "plt.title('Age vs Churn')\n",
        "plt.show()"
      ]
    },
    {
      "cell_type": "code",
      "execution_count": null,
      "metadata": {
        "colab": {
          "base_uri": "https://localhost:8080/",
          "height": 564
        },
        "id": "0HHV6ukHMqhv",
        "outputId": "dfb51d83-d570-4424-ada8-0e85e3b8db8b"
      },
      "outputs": [
        {
          "output_type": "display_data",
          "data": {
            "text/plain": [
              "<Figure size 800x600 with 1 Axes>"
            ],
            "image/png": "[encoded data removed]"
          },
          "metadata": {}
        }
      ],
      "source": [
        "\n",
        "# Total Purchase vs Churn\n",
        "plt.figure(figsize=(8, 6))\n",
        "sns.boxplot(x='Churn', y='Total_Purchase', data=dataset)\n",
        "plt.title('Total Purchase vs Churn')\n",
        "plt.show()"
      ]
    },
    {
      "cell_type": "code",
      "execution_count": null,
      "metadata": {
        "colab": {
          "base_uri": "https://localhost:8080/",
          "height": 564
        },
        "id": "-SxsUyPFMq2u",
        "outputId": "58a623e7-ddea-4802-f34e-3651913d8ea7"
      },
      "outputs": [
        {
          "output_type": "display_data",
          "data": {
            "text/plain": [
              "<Figure size 800x600 with 1 Axes>"
            ],
            "image/png": "[encoded data removed]"
          },
          "metadata": {}
        }
      ],
      "source": [
        "\n",
        "# Years vs Churn\n",
        "plt.figure(figsize=(8, 6))\n",
        "sns.boxplot(x='Churn', y='Years', data=dataset)\n",
        "plt.title('Years vs Churn')\n",
        "plt.show()"
      ]
    },
    {
      "cell_type": "code",
      "execution_count": null,
      "metadata": {
        "colab": {
          "base_uri": "https://localhost:8080/",
          "height": 564
        },
        "id": "EpX0UIgIMrBy",
        "outputId": "f46684a1-dbc0-4a9d-cae5-a4b4747b55ce"
      },
      "outputs": [
        {
          "output_type": "display_data",
          "data": {
            "text/plain": [
              "<Figure size 800x600 with 1 Axes>"
            ],
            "image/png": "[encoded data removed]"
          },
          "metadata": {}
        }
      ],
      "source": [
        "plt.show()\n",
        "\n",
        "# Num Sites vs Churn\n",
        "plt.figure(figsize=(8, 6))\n",
        "sns.boxplot(x='Churn', y='Num_Sites', data=dataset)\n",
        "plt.title('Num Sites vs Churn')\n",
        "plt.show()"
      ]
    },
    {
      "cell_type": "code",
      "execution_count": null,
      "metadata": {
        "colab": {
          "base_uri": "https://localhost:8080/",
          "height": 564
        },
        "id": "T0_9zyIbMrSZ",
        "outputId": "94893809-8068-45b4-ad36-0ecb186245a8"
      },
      "outputs": [
        {
          "output_type": "display_data",
          "data": {
            "text/plain": [
              "<Figure size 800x600 with 1 Axes>"
            ],
            "image/png": "[encoded data removed]"
          },
          "metadata": {}
        }
      ],
      "source": [
        "# Account Manager vs Churn\n",
        "plt.figure(figsize=(8, 6))\n",
        "sns.countplot(x='Churn', hue='Account_Manager', data=dataset)\n",
        "plt.title('Account Manager vs Churn')\n",
        "plt.show()"
      ]
    },
    {
      "cell_type": "markdown",
      "metadata": {
        "id": "I8YmtWz9pomv"
      },
      "source": [
        "## Modélisation\n",
        "\n",
        "Dans cette phase, nous allons entraîner plusieurs modèles de classification, dont la régression logistique, Random Forest, et potentiellement et les SVM. Notre objectif est à la fois la compréhension des déterminants de churn et la prédiction de celui-ci.\n",
        "\n",
        "Nous allons d'abord commencer par partionner notre dataset en jeu de données d'entraînement et jeu de données de test."
      ]
    },
    {
      "cell_type": "code",
      "execution_count": null,
      "metadata": {
        "id": "ZYznlEY9rjwr"
      },
      "outputs": [],
      "source": [
        "from sklearn.model_selection import train_test_split\n",
        "# Partionner le dataset en train et test\n",
        "\n",
        "features = ['Age', 'Total_Purchase', 'Account_Manager', 'Years', 'Num_Sites']\n",
        "X = dataset[features]\n",
        "y = dataset['Churn']\n",
        "\n",
        "X_train, X_test, y_train, y_test = train_test_split(X, y, test_size=0.2, random_state=42)"
      ]
    },
    {
      "cell_type": "markdown",
      "metadata": {
        "id": "vN0T5otzq208"
      },
      "source": [
        "### Régression logistique"
      ]
    },
    {
      "cell_type": "code",
      "execution_count": null,
      "metadata": {
        "colab": {
          "base_uri": "https://localhost:8080/",
          "height": 384
        },
        "id": "dcFegvQYq6ss",
        "outputId": "cb8c3314-feec-4b35-a2fa-25cadf9ca37c"
      },
      "outputs": [
        {
          "output_type": "stream",
          "name": "stdout",
          "text": [
            "Optimization terminated successfully.\n",
            "         Current function value: 0.257054\n",
            "         Iterations 8\n"
          ]
        },
        {
          "output_type": "execute_result",
          "data": {
            "text/plain": [
              "<class 'statsmodels.iolib.summary.Summary'>\n",
              "\"\"\"\n",
              "                           Logit Regression Results                           \n",
              "==============================================================================\n",
              "Dep. Variable:                  Churn   No. Observations:                  720\n",
              "Model:                          Logit   Df Residuals:                      714\n",
              "Method:                           MLE   Df Model:                            5\n",
              "Date:                Wed, 07 May 2025   Pseudo R-squ.:                  0.4237\n",
              "Time:                        15:54:15   Log-Likelihood:                -185.08\n",
              "converged:                       True   LL-Null:                       -321.17\n",
              "Covariance Type:            nonrobust   LLR p-value:                 9.559e-57\n",
              "===================================================================================\n",
              "                      coef    std err          z      P>|z|      [0.025      0.975]\n",
              "-----------------------------------------------------------------------------------\n",
              "const             -19.1136      1.931     -9.896      0.000     -22.899     -15.328\n",
              "Age                 0.0491      0.023      2.114      0.034       0.004       0.095\n",
              "Total_Purchase   3.566e-05   5.51e-05      0.647      0.518   -7.24e-05       0.000\n",
              "Account_Manager     0.5457      0.269      2.030      0.042       0.019       1.072\n",
              "Years               0.5278      0.107      4.939      0.000       0.318       0.737\n",
              "Num_Sites           1.2499      0.115     10.839      0.000       1.024       1.476\n",
              "===================================================================================\n",
              "\"\"\""
            ],
            "text/html": [
              "<table class=\"simpletable\">\n",
              "<caption>Logit Regression Results</caption>\n",
              "<tr>\n",
              "  <th>Dep. Variable:</th>         <td>Churn</td>      <th>  No. Observations:  </th>  <td>   720</td>  \n",
              "</tr>\n",
              "<tr>\n",
              "  <th>Model:</th>                 <td>Logit</td>      <th>  Df Residuals:      </th>  <td>   714</td>  \n",
              "</tr>\n",
              "<tr>\n",
              "  <th>Method:</th>                 <td>MLE</td>       <th>  Df Model:          </th>  <td>     5</td>  \n",
              "</tr>\n",
              "<tr>\n",
              "  <th>Date:</th>            <td>Wed, 07 May 2025</td> <th>  Pseudo R-squ.:     </th>  <td>0.4237</td>  \n",
              "</tr>\n",
              "<tr>\n",
              "  <th>Time:</th>                <td>15:54:15</td>     <th>  Log-Likelihood:    </th> <td> -185.08</td> \n",
              "</tr>\n",
              "<tr>\n",
              "  <th>converged:</th>             <td>True</td>       <th>  LL-Null:           </th> <td> -321.17</td> \n",
              "</tr>\n",
              "<tr>\n",
              "  <th>Covariance Type:</th>     <td>nonrobust</td>    <th>  LLR p-value:       </th> <td>9.559e-57</td>\n",
              "</tr>\n",
              "</table>\n",
              "<table class=\"simpletable\">\n",
              "<tr>\n",
              "         <td></td>            <th>coef</th>     <th>std err</th>      <th>z</th>      <th>P>|z|</th>  <th>[0.025</th>    <th>0.975]</th>  \n",
              "</tr>\n",
              "<tr>\n",
              "  <th>const</th>           <td>  -19.1136</td> <td>    1.931</td> <td>   -9.896</td> <td> 0.000</td> <td>  -22.899</td> <td>  -15.328</td>\n",
              "</tr>\n",
              "<tr>\n",
              "  <th>Age</th>             <td>    0.0491</td> <td>    0.023</td> <td>    2.114</td> <td> 0.034</td> <td>    0.004</td> <td>    0.095</td>\n",
              "</tr>\n",
              "<tr>\n",
              "  <th>Total_Purchase</th>  <td> 3.566e-05</td> <td> 5.51e-05</td> <td>    0.647</td> <td> 0.518</td> <td>-7.24e-05</td> <td>    0.000</td>\n",
              "</tr>\n",
              "<tr>\n",
              "  <th>Account_Manager</th> <td>    0.5457</td> <td>    0.269</td> <td>    2.030</td> <td> 0.042</td> <td>    0.019</td> <td>    1.072</td>\n",
              "</tr>\n",
              "<tr>\n",
              "  <th>Years</th>           <td>    0.5278</td> <td>    0.107</td> <td>    4.939</td> <td> 0.000</td> <td>    0.318</td> <td>    0.737</td>\n",
              "</tr>\n",
              "<tr>\n",
              "  <th>Num_Sites</th>       <td>    1.2499</td> <td>    0.115</td> <td>   10.839</td> <td> 0.000</td> <td>    1.024</td> <td>    1.476</td>\n",
              "</tr>\n",
              "</table>"
            ],
            "text/latex": "\\begin{center}\n\\begin{tabular}{lclc}\n\\toprule\n\\textbf{Dep. Variable:}   &      Churn       & \\textbf{  No. Observations:  } &      720    \\\\\n\\textbf{Model:}           &      Logit       & \\textbf{  Df Residuals:      } &      714    \\\\\n\\textbf{Method:}          &       MLE        & \\textbf{  Df Model:          } &        5    \\\\\n\\textbf{Date:}            & Wed, 07 May 2025 & \\textbf{  Pseudo R-squ.:     } &   0.4237    \\\\\n\\textbf{Time:}            &     15:54:15     & \\textbf{  Log-Likelihood:    } &   -185.08   \\\\\n\\textbf{converged:}       &       True       & \\textbf{  LL-Null:           } &   -321.17   \\\\\n\\textbf{Covariance Type:} &    nonrobust     & \\textbf{  LLR p-value:       } & 9.559e-57   \\\\\n\\bottomrule\n\\end{tabular}\n\\begin{tabular}{lcccccc}\n                          & \\textbf{coef} & \\textbf{std err} & \\textbf{z} & \\textbf{P$> |$z$|$} & \\textbf{[0.025} & \\textbf{0.975]}  \\\\\n\\midrule\n\\textbf{const}            &     -19.1136  &        1.931     &    -9.896  &         0.000        &      -22.899    &      -15.328     \\\\\n\\textbf{Age}              &       0.0491  &        0.023     &     2.114  &         0.034        &        0.004    &        0.095     \\\\\n\\textbf{Total\\_Purchase}  &    3.566e-05  &     5.51e-05     &     0.647  &         0.518        &    -7.24e-05    &        0.000     \\\\\n\\textbf{Account\\_Manager} &       0.5457  &        0.269     &     2.030  &         0.042        &        0.019    &        1.072     \\\\\n\\textbf{Years}            &       0.5278  &        0.107     &     4.939  &         0.000        &        0.318    &        0.737     \\\\\n\\textbf{Num\\_Sites}       &       1.2499  &        0.115     &    10.839  &         0.000        &        1.024    &        1.476     \\\\\n\\bottomrule\n\\end{tabular}\n%\\caption{Logit Regression Results}\n\\end{center}"
          },
          "metadata": {},
          "execution_count": 23
        }
      ],
      "source": [
        "import statsmodels.api as sm\n",
        "\n",
        "X_train_const = sm.add_constant(X_train)\n",
        "X_test_const = sm.add_constant(X_test)\n",
        "\n",
        "logit_model = sm.Logit(y_train, X_train_const)\n",
        "result_sm = logit_model.fit()\n",
        "\n",
        "result_sm.summary()"
      ]
    },
    {
      "cell_type": "code",
      "execution_count": null,
      "metadata": {
        "colab": {
          "base_uri": "https://localhost:8080/"
        },
        "id": "eorgqEUDQ9Yz",
        "outputId": "01877a27-a3ec-47eb-a125-11ba07a2e0ea"
      },
      "outputs": [
        {
          "output_type": "execute_result",
          "data": {
            "text/plain": [
              "{'Accuracy': 0.9,\n",
              " 'Precision': 0.7058823529411765,\n",
              " 'Recall': 0.75,\n",
              " 'F1 Score': 0.7272727272727273}"
            ]
          },
          "metadata": {},
          "execution_count": 22
        }
      ],
      "source": [
        "from sklearn.metrics import accuracy_score, precision_score, recall_score, f1_score\n",
        "\n",
        "y_test_pred_prob = result_sm.predict(X_test_const)\n",
        "\n",
        "y_test_pred_sm = (y_test_pred_prob >= 0.25).astype(int)\n",
        "\n",
        "# Calculate performance metrics using statsmodels predictions\n",
        "accuracy = accuracy_score(y_test, y_test_pred_sm)\n",
        "precision = precision_score(y_test, y_test_pred_sm)\n",
        "recall = recall_score(y_test, y_test_pred_sm)\n",
        "f1 = f1_score(y_test, y_test_pred_sm)\n",
        "\n",
        "performance_metrics = {\n",
        "    'Accuracy': accuracy,\n",
        "    'Precision': precision,\n",
        "    'Recall': recall,\n",
        "    'F1 Score': f1\n",
        "}\n",
        "\n",
        "performance_metrics"
      ]
    },
    {
      "cell_type": "code",
      "source": [
        "y_test_pred_prob"
      ],
      "metadata": {
        "colab": {
          "base_uri": "https://localhost:8080/",
          "height": 458
        },
        "id": "kJx9fPdsb3T-",
        "outputId": "077b8735-75ff-4c87-edf8-ca5b9a5a45db"
      },
      "execution_count": null,
      "outputs": [
        {
          "output_type": "execute_result",
          "data": {
            "text/plain": [
              "70     0.397622\n",
              "827    0.179830\n",
              "231    0.019421\n",
              "588    0.129233\n",
              "39     0.671608\n",
              "         ...   \n",
              "897    0.000186\n",
              "578    0.901334\n",
              "779    0.014015\n",
              "25     0.457460\n",
              "84     0.081024\n",
              "Length: 180, dtype: float64"
            ],
            "text/html": [
              "<div>\n",
              "<style scoped>\n",
              "    .dataframe tbody tr th:only-of-type {\n",
              "        vertical-align: middle;\n",
              "    }\n",
              "\n",
              "    .dataframe tbody tr th {\n",
              "        vertical-align: top;\n",
              "    }\n",
              "\n",
              "    .dataframe thead th {\n",
              "        text-align: right;\n",
              "    }\n",
              "</style>\n",
              "<table border=\"1\" class=\"dataframe\">\n",
              "  <thead>\n",
              "    <tr style=\"text-align: right;\">\n",
              "      <th></th>\n",
              "      <th>0</th>\n",
              "    </tr>\n",
              "  </thead>\n",
              "  <tbody>\n",
              "    <tr>\n",
              "      <th>70</th>\n",
              "      <td>0.397622</td>\n",
              "    </tr>\n",
              "    <tr>\n",
              "      <th>827</th>\n",
              "      <td>0.179830</td>\n",
              "    </tr>\n",
              "    <tr>\n",
              "      <th>231</th>\n",
              "      <td>0.019421</td>\n",
              "    </tr>\n",
              "    <tr>\n",
              "      <th>588</th>\n",
              "      <td>0.129233</td>\n",
              "    </tr>\n",
              "    <tr>\n",
              "      <th>39</th>\n",
              "      <td>0.671608</td>\n",
              "    </tr>\n",
              "    <tr>\n",
              "      <th>...</th>\n",
              "      <td>...</td>\n",
              "    </tr>\n",
              "    <tr>\n",
              "      <th>897</th>\n",
              "      <td>0.000186</td>\n",
              "    </tr>\n",
              "    <tr>\n",
              "      <th>578</th>\n",
              "      <td>0.901334</td>\n",
              "    </tr>\n",
              "    <tr>\n",
              "      <th>779</th>\n",
              "      <td>0.014015</td>\n",
              "    </tr>\n",
              "    <tr>\n",
              "      <th>25</th>\n",
              "      <td>0.457460</td>\n",
              "    </tr>\n",
              "    <tr>\n",
              "      <th>84</th>\n",
              "      <td>0.081024</td>\n",
              "    </tr>\n",
              "  </tbody>\n",
              "</table>\n",
              "<p>180 rows × 1 columns</p>\n",
              "</div><br><label><b>dtype:</b> float64</label>"
            ]
          },
          "metadata": {},
          "execution_count": 20
        }
      ]
    },
    {
      "cell_type": "code",
      "source": [
        "y_test_pred_prob"
      ],
      "metadata": {
        "colab": {
          "base_uri": "https://localhost:8080/",
          "height": 458
        },
        "id": "mizYAa0U32qn",
        "outputId": "3c4a1fea-ce2e-47b6-aa03-e858e1d0ce6e"
      },
      "execution_count": null,
      "outputs": [
        {
          "output_type": "execute_result",
          "data": {
            "text/plain": [
              "70     0.397622\n",
              "827    0.179830\n",
              "231    0.019421\n",
              "588    0.129233\n",
              "39     0.671608\n",
              "         ...   \n",
              "897    0.000186\n",
              "578    0.901334\n",
              "779    0.014015\n",
              "25     0.457460\n",
              "84     0.081024\n",
              "Length: 180, dtype: float64"
            ],
            "text/html": [
              "<div>\n",
              "<style scoped>\n",
              "    .dataframe tbody tr th:only-of-type {\n",
              "        vertical-align: middle;\n",
              "    }\n",
              "\n",
              "    .dataframe tbody tr th {\n",
              "        vertical-align: top;\n",
              "    }\n",
              "\n",
              "    .dataframe thead th {\n",
              "        text-align: right;\n",
              "    }\n",
              "</style>\n",
              "<table border=\"1\" class=\"dataframe\">\n",
              "  <thead>\n",
              "    <tr style=\"text-align: right;\">\n",
              "      <th></th>\n",
              "      <th>0</th>\n",
              "    </tr>\n",
              "  </thead>\n",
              "  <tbody>\n",
              "    <tr>\n",
              "      <th>70</th>\n",
              "      <td>0.397622</td>\n",
              "    </tr>\n",
              "    <tr>\n",
              "      <th>827</th>\n",
              "      <td>0.179830</td>\n",
              "    </tr>\n",
              "    <tr>\n",
              "      <th>231</th>\n",
              "      <td>0.019421</td>\n",
              "    </tr>\n",
              "    <tr>\n",
              "      <th>588</th>\n",
              "      <td>0.129233</td>\n",
              "    </tr>\n",
              "    <tr>\n",
              "      <th>39</th>\n",
              "      <td>0.671608</td>\n",
              "    </tr>\n",
              "    <tr>\n",
              "      <th>...</th>\n",
              "      <td>...</td>\n",
              "    </tr>\n",
              "    <tr>\n",
              "      <th>897</th>\n",
              "      <td>0.000186</td>\n",
              "    </tr>\n",
              "    <tr>\n",
              "      <th>578</th>\n",
              "      <td>0.901334</td>\n",
              "    </tr>\n",
              "    <tr>\n",
              "      <th>779</th>\n",
              "      <td>0.014015</td>\n",
              "    </tr>\n",
              "    <tr>\n",
              "      <th>25</th>\n",
              "      <td>0.457460</td>\n",
              "    </tr>\n",
              "    <tr>\n",
              "      <th>84</th>\n",
              "      <td>0.081024</td>\n",
              "    </tr>\n",
              "  </tbody>\n",
              "</table>\n",
              "<p>180 rows × 1 columns</p>\n",
              "</div><br><label><b>dtype:</b> float64</label>"
            ]
          },
          "metadata": {},
          "execution_count": 12
        }
      ]
    },
    {
      "cell_type": "markdown",
      "source": [
        "### Régression logistique avec régularisation\n",
        "\n",
        "Nous allons essayer une régression logistique avec une régularisation Ridge."
      ],
      "metadata": {
        "id": "H6LVMnQT4AMS"
      }
    },
    {
      "cell_type": "code",
      "source": [
        "from sklearn.linear_model import LogisticRegression\n",
        "from sklearn.preprocessing import StandardScaler\n",
        "\n",
        "# Normalisation des données\n",
        "scaler = StandardScaler()\n",
        "X_train_scaled = scaler.fit_transform(X_train)\n",
        "X_test_scaled = scaler.transform(X_test)\n",
        "# Définir la grille des valeurs à tester pour l'hyperparamètre de régularisation\n",
        "\n",
        "C_values = [0.01, 0.05, 0.1, 0.5, 1, 2, 5, 10]\n",
        "\n",
        "performance_metrics = []\n",
        "\n",
        "# Boucler sur les valeurs de l'hyperparamètre\n",
        "for c in C_values:\n",
        "  model = LogisticRegression(penalty='l2', C=c)\n",
        "  model.fit(X_train_scaled, y_train)\n",
        "\n",
        "  # Prédire sur le dataset de test\n",
        "  y_pred = model.predict(X_test_scaled)\n",
        "\n",
        "  # Calculer les métriques de performance\n",
        "  accuracy = accuracy_score(y_test, y_pred)\n",
        "  precision = precision_score(y_test, y_pred)\n",
        "  recall = recall_score(y_test, y_pred)\n",
        "  f1 = f1_score(y_test, y_pred)\n",
        "\n",
        "  # Ajouter les performances à la liste pour les stocker\n",
        "  performance_metrics.append({\n",
        "    'C': c,\n",
        "    'Accuracy': accuracy,\n",
        "    'Precision': precision,\n",
        "    'Recall': recall,\n",
        "    'F1 Score': f1\n",
        "  })\n",
        "\n",
        "\n",
        "performance_df = pd.DataFrame(performance_metrics)\n",
        "\n",
        "print(performance_df)"
      ],
      "metadata": {
        "colab": {
          "base_uri": "https://localhost:8080/"
        },
        "id": "1JptdVsE4yOv",
        "outputId": "90889bd3-adba-42fd-d3dc-fe7be7c6be82"
      },
      "execution_count": null,
      "outputs": [
        {
          "output_type": "stream",
          "name": "stdout",
          "text": [
            "       C  Accuracy  Precision   Recall  F1 Score\n",
            "0   0.01  0.827778   1.000000  0.03125  0.060606\n",
            "1   0.05  0.872222   0.800000  0.37500  0.510638\n",
            "2   0.10  0.883333   0.761905  0.50000  0.603774\n",
            "3   0.50  0.900000   0.769231  0.62500  0.689655\n",
            "4   1.00  0.900000   0.769231  0.62500  0.689655\n",
            "5   2.00  0.900000   0.769231  0.62500  0.689655\n",
            "6   5.00  0.900000   0.769231  0.62500  0.689655\n",
            "7  10.00  0.900000   0.769231  0.62500  0.689655\n"
          ]
        }
      ]
    },
    {
      "cell_type": "markdown",
      "metadata": {
        "id": "tE1wmEhDyGUa"
      },
      "source": [
        "### Random forest"
      ]
    },
    {
      "cell_type": "code",
      "source": [
        "# prompt: Un random forest simple\n",
        "\n",
        "from sklearn.ensemble import RandomForestClassifier\n",
        "\n",
        "# Créer un modèle Random Forest\n",
        "rf_model = RandomForestClassifier(random_state=42)\n",
        "\n",
        "# Entraîner le modèle\n",
        "rf_model.fit(X_train, y_train)\n",
        "\n",
        "# Prédire sur le jeu de test\n",
        "y_pred_rf = rf_model.predict(X_test)\n",
        "\n",
        "# Évaluer les performances\n",
        "accuracy_rf = accuracy_score(y_test, y_pred_rf)\n",
        "precision_rf = precision_score(y_test, y_pred_rf)\n",
        "recall_rf = recall_score(y_test, y_pred_rf)\n",
        "f1_rf = f1_score(y_test, y_pred_rf)\n",
        "\n",
        "print(f\"Accuracy: {accuracy_rf}\")\n",
        "print(f\"Precision: {precision_rf}\")\n",
        "print(f\"Recall: {recall_rf}\")\n",
        "print(f\"F1-Score: {f1_rf}\")\n"
      ],
      "metadata": {
        "colab": {
          "base_uri": "https://localhost:8080/"
        },
        "id": "4gVDuSyqKUfw",
        "outputId": "98d0bcae-e34e-4c24-8d47-ed70ef77c826"
      },
      "execution_count": null,
      "outputs": [
        {
          "output_type": "stream",
          "name": "stdout",
          "text": [
            "Accuracy: 0.8722222222222222\n",
            "Precision: 0.7368421052631579\n",
            "Recall: 0.4375\n",
            "F1-Score: 0.5490196078431373\n"
          ]
        }
      ]
    },
    {
      "cell_type": "code",
      "source": [
        "from sklearn.ensemble import RandomForestClassifier\n",
        "from sklearn.model_selection import GridSearchCV\n",
        "\n",
        "# Définition des hyperparamètres\n",
        "param_grid = {\n",
        "    'n_estimators': [100, 200, 300],\n",
        "    'max_depth': [2, 5, 10]\n",
        "}\n",
        "\n",
        "# Initialiser le random forest\n",
        "rf_model = RandomForestClassifier(random_state=42)\n",
        "\n",
        "# Réaliser une une validation croisée\n",
        "grid_search = GridSearchCV(rf_model, param_grid, cv=5, scoring='recall')\n",
        "grid_search.fit(X_train, y_train)\n",
        "\n",
        "# Extraire le meilleur modèle\n",
        "best_model = grid_search.best_estimator_\n",
        "\n",
        "# Prédire sur le dataset de test\n",
        "y_test_pred_best_model = best_model.predict(X_test)\n",
        "\n",
        "# Calculer les métriques de performance\n",
        "accuracy_best_model = accuracy_score(y_test, y_test_pred_best_model)\n",
        "precision_best_model = precision_score(y_test, y_test_pred_best_model)\n",
        "recall_best_model = recall_score(y_test, y_test_pred_best_model)\n",
        "f1_best_model = f1_score(y_test, y_test_pred_best_model)\n",
        "\n",
        "performance_metrics_best_model = {\n",
        "    'Accuracy': accuracy_best_model,\n",
        "    'Precision': precision_best_model,\n",
        "    'Recall': recall_best_model,\n",
        "    'F1 Score': f1_best_model\n",
        "}\n",
        "\n",
        "performance_metrics_best_model"
      ],
      "metadata": {
        "colab": {
          "base_uri": "https://localhost:8080/"
        },
        "id": "K2sXUS9bSHNg",
        "outputId": "2c0fee5c-f987-4ca5-846d-0c706a428876"
      },
      "execution_count": null,
      "outputs": [
        {
          "output_type": "execute_result",
          "data": {
            "text/plain": [
              "{'Accuracy': 0.8722222222222222,\n",
              " 'Precision': 0.7368421052631579,\n",
              " 'Recall': 0.4375,\n",
              " 'F1 Score': 0.5490196078431373}"
            ]
          },
          "metadata": {},
          "execution_count": 15
        }
      ]
    },
    {
      "cell_type": "markdown",
      "source": [
        "## Rééchantillonage du jeu de données\n",
        "\n",
        "Nous allons maintenant essayer de travailler sur les données pour améliorer les performance. La difficulté principale de ce jeu de données vient de la présence d'une classe minoritaire (16% de 1). Nous allons essayer de rééquilibrer notre dataset en augmentant la classe minoritaire par la création de données synthétiques. Pour ce faire, nous allons utiliser le package `SMOTE` qui permet de générer des observations en interpolant à partir des points de données existants de la classe minoritaire."
      ],
      "metadata": {
        "id": "GbvKwBtd3qsj"
      }
    },
    {
      "cell_type": "code",
      "source": [
        "!pip install imbalanced-learn"
      ],
      "metadata": {
        "colab": {
          "base_uri": "https://localhost:8080/"
        },
        "id": "c26sA3dou7kL",
        "outputId": "43fb5f54-1c97-4c9a-83d5-71752db21b15"
      },
      "execution_count": null,
      "outputs": [
        {
          "output_type": "stream",
          "name": "stdout",
          "text": [
            "Requirement already satisfied: imbalanced-learn in /usr/local/lib/python3.11/dist-packages (0.13.0)\n",
            "Requirement already satisfied: numpy<3,>=1.24.3 in /usr/local/lib/python3.11/dist-packages (from imbalanced-learn) (2.0.2)\n",
            "Requirement already satisfied: scipy<2,>=1.10.1 in /usr/local/lib/python3.11/dist-packages (from imbalanced-learn) (1.15.2)\n",
            "Requirement already satisfied: scikit-learn<2,>=1.3.2 in /usr/local/lib/python3.11/dist-packages (from imbalanced-learn) (1.6.1)\n",
            "Requirement already satisfied: sklearn-compat<1,>=0.1 in /usr/local/lib/python3.11/dist-packages (from imbalanced-learn) (0.1.3)\n",
            "Requirement already satisfied: joblib<2,>=1.1.1 in /usr/local/lib/python3.11/dist-packages (from imbalanced-learn) (1.4.2)\n",
            "Requirement already satisfied: threadpoolctl<4,>=2.0.0 in /usr/local/lib/python3.11/dist-packages (from imbalanced-learn) (3.6.0)\n"
          ]
        }
      ]
    },
    {
      "cell_type": "code",
      "source": [
        "from imblearn.pipeline import Pipeline\n",
        "from imblearn.over_sampling import SMOTE\n",
        "from sklearn.metrics import classification_report\n",
        "\n",
        "pipeline_smote_lr = Pipeline([\n",
        "    ('smote', SMOTE(random_state=42)),\n",
        "    ('scaler', StandardScaler()),\n",
        "    ('classifier', LogisticRegression(max_iter=5000, random_state=42))\n",
        "])\n",
        "\n",
        "# Paramètres à tester pour SMOTE et la régression logistique\n",
        "param_grid_smote_lr = {\n",
        "    'smote__sampling_strategy': [0.4, 0.5, 0.6, 0.7],  # Proportions à tester pour SMOTE\n",
        "    'classifier__C': [0.01, 0.1, 1, 5, 10]  # Valeurs de C à tester pour la régression logistique\n",
        "}\n",
        "\n",
        "# Recherche sur grille pour trouver les meilleurs hyperparamètres\n",
        "grid_search_smote_lr = GridSearchCV(pipeline_smote_lr, param_grid_smote_lr, cv=5, scoring='recall')\n",
        "grid_search_smote_lr.fit(X_train, y_train)\n",
        "\n",
        "# Meilleur modèle trouvé avec SMOTE et régression logistique\n",
        "best_model_smote_lr = grid_search_smote_lr.best_estimator_\n",
        "\n",
        "# Prédictions avec le meilleur modèle\n",
        "y_pred_smote_lr = best_model_smote_lr.predict(X_test)\n",
        "y_pred_proba_smote_lr = best_model_smote_lr.predict_proba(X_test)[:, 1]\n",
        "\n",
        "# Calcul des métriques\n",
        "classification_rep_smote_lr = classification_report(y_test, y_pred_smote_lr, output_dict=True)\n",
        "\n",
        "# Extraction des métriques spécifiques\n",
        "recall_smote_lr = classification_rep_smote_lr['1']['recall']\n",
        "precision_smote_lr = classification_rep_smote_lr['1']['precision']\n",
        "f1_score_smote_lr = classification_rep_smote_lr['1']['f1-score']\n",
        "\n",
        "# Création d'un DataFrame pour afficher les résultats\n",
        "metrics_smote_lr = pd.DataFrame({\n",
        "    'Metric': ['Recall', 'Precision', 'F1 Score'],\n",
        "    'Value': [recall_smote_lr, precision_smote_lr, f1_score_smote_lr]\n",
        "})\n",
        "\n",
        "print(metrics_smote_lr)\n",
        "print(\"Best Parameters: \", grid_search_smote_lr.best_params_)"
      ],
      "metadata": {
        "colab": {
          "base_uri": "https://localhost:8080/"
        },
        "id": "dPGnkbnp-f5F",
        "outputId": "9fd0deff-8eba-4623-8181-e12a14cb7a05"
      },
      "execution_count": null,
      "outputs": [
        {
          "output_type": "stream",
          "name": "stdout",
          "text": [
            "      Metric     Value\n",
            "0     Recall  0.750000\n",
            "1  Precision  0.648649\n",
            "2   F1 Score  0.695652\n",
            "Best Parameters:  {'classifier__C': 0.1, 'smote__sampling_strategy': 0.7}\n"
          ]
        }
      ]
    }
  ],
  "metadata": {
    "colab": {
      "provenance": [],
      "include_colab_link": true
    },
    "kernelspec": {
      "display_name": "Python 3",
      "name": "python3"
    },
    "language_info": {
      "name": "python"
    }
  },
  "nbformat": 4,
  "nbformat_minor": 0
}